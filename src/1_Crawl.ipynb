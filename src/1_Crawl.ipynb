{
 "cells": [
  {
   "cell_type": "markdown",
   "metadata": {},
   "source": [
    "# 1. Setup"
   ]
  },
  {
   "cell_type": "code",
   "execution_count": 1,
   "metadata": {},
   "outputs": [],
   "source": [
    "import os\n",
    "import time\n",
    "import pandas as pd\n",
    "import json\n",
    "import requests\n",
    "from binance.client import Client"
   ]
  },
  {
   "cell_type": "markdown",
   "metadata": {},
   "source": [
    "# 2. Authenticate"
   ]
  },
  {
   "cell_type": "code",
   "execution_count": 2,
   "metadata": {},
   "outputs": [],
   "source": [
    "# Khóa API của Binance\n",
    "apikey = '...'\n",
    "secret = '...'\n",
    "\n",
    "# Khởi tạo client Binance\n",
    "client = Client(apikey, secret)\n",
    "\n",
    "# API key của CoinMarketCap\n",
    "api_key = '...'\n",
    "\n",
    "# Tạo header cho yêu cầu API\n",
    "headers = {\n",
    "    'Accept': 'application/json',\n",
    "    'X-CMC_PRO_API_KEY': api_key,\n",
    "}\n"
   ]
  },
  {
   "cell_type": "markdown",
   "metadata": {},
   "source": [
    "# 3. test Get tickers"
   ]
  },
  {
   "cell_type": "code",
   "execution_count": 3,
   "metadata": {},
   "outputs": [],
   "source": [
    "#tickers = client.get_all_tickers()\n",
    "#tickers"
   ]
  },
  {
   "cell_type": "markdown",
   "metadata": {},
   "source": [
    "# 4. Binance"
   ]
  },
  {
   "cell_type": "code",
   "execution_count": 4,
   "metadata": {},
   "outputs": [],
   "source": [
    "# Thư mục dataraw\n",
    "data_folder = r\"D:\\HTP\\Project-personal\\CoinAnalytics\\Main\\data\\raw\"\n",
    "if not os.path.exists(data_folder):\n",
    "    os.makedirs(data_folder)\n",
    "\n",
    "# Danh sách các token cần lấy và thời gian niêm yết\n",
    "tokens = {\n",
    "    'SANDUSDT': '2019-08-15',\n",
    "    'AXSUSDT': '2020-10-17',\n",
    "    'MANAUSDT': '2017-10-17',\n",
    "    'GALAUSDT': '2021-09-15',\n",
    "    'ENJUSDT': '2017-10-17',\n",
    "    'SUSHIUSDT': '2020-09-01',\n",
    "    'YGGUSDT': '2021-12-15',\n",
    "    'ALICEUSDT': '2021-03-15'\n",
    "}"
   ]
  },
  {
   "cell_type": "code",
   "execution_count": 5,
   "metadata": {},
   "outputs": [],
   "source": [
    "def get_historical_data(symbol, start_date):\n",
    "    klines = client.get_historical_klines(symbol, interval='1d', start_str=start_date)\n",
    "    \n",
    "    ohlcv_data = pd.DataFrame(klines, columns=['timestamp', 'open', 'high', 'low', 'close', 'volume', \n",
    "                                                'close_time', 'quote_asset_volume', 'number_of_trades', \n",
    "                                                'taker_buy_base_asset_volume', 'taker_buy_quote_asset_volume', 'ignore'])\n",
    "    \n",
    "    ohlcv_data['timestamp'] = pd.to_datetime(ohlcv_data['timestamp'], unit='ms')\n",
    "\n",
    "    order_book = client.get_order_book(symbol=symbol)\n",
    "    highest_bid = order_book['bids'][0][0] if order_book['bids'] else None\n",
    "    lowest_bid = order_book['bids'][-1][0] if order_book['bids'] else None\n",
    "    highest_ask = order_book['asks'][0][0] if order_book['asks'] else None\n",
    "    lowest_ask = order_book['asks'][-1][0] if order_book['asks'] else None\n",
    "    \n",
    "    ohlcv_data['highest_bid'] = highest_bid\n",
    "    ohlcv_data['lowest_bid'] = lowest_bid\n",
    "    ohlcv_data['highest_ask'] = highest_ask\n",
    "    ohlcv_data['lowest_ask'] = lowest_ask\n",
    "    \n",
    "    return ohlcv_data\n",
    "\n",
    "def save_data_to_csv(data, token):\n",
    "    file_path = os.path.join(data_folder, f\"{token}_historical_data.csv\")\n",
    "    \n",
    "    if os.path.exists(file_path):\n",
    "        os.remove(file_path)\n",
    "    \n",
    "    data.to_csv(file_path, index=False)\n",
    "    print(f\"Save data to {file_path} ... Done\")\n"
   ]
  },
  {
   "cell_type": "markdown",
   "metadata": {},
   "source": [
    "# 5. CMC"
   ]
  },
  {
   "cell_type": "code",
   "execution_count": 6,
   "metadata": {},
   "outputs": [],
   "source": [
    "def get_token_info(symbol):\n",
    "    # Chỉ sử dụng phần tên token (không có 'USDT')\n",
    "    symbol = symbol.replace('USDT', '')\n",
    "    \n",
    "    url = \"https://pro-api.coinmarketcap.com/v2/cryptocurrency/info\"\n",
    "    parameters = {'symbol': symbol}\n",
    "    \n",
    "    try:\n",
    "        response = requests.get(url, headers=headers, params=parameters)\n",
    "        response.raise_for_status()  # Kiểm tra lỗi HTTP\n",
    "        data = response.json()\n",
    "\n",
    "        if 'data' in data and symbol in data['data']:\n",
    "            return data['data'][symbol][0]\n",
    "        else:\n",
    "            print(f\"Không tìm thấy thông tin cho {symbol}\")\n",
    "            return None\n",
    "    except requests.exceptions.RequestException as e:\n",
    "        print(f\"Lỗi khi gửi yêu cầu cho {symbol}: {e}\")\n",
    "        return None\n"
   ]
  },
  {
   "cell_type": "markdown",
   "metadata": {},
   "source": [
    "# 6. Save"
   ]
  },
  {
   "cell_type": "code",
   "execution_count": null,
   "metadata": {},
   "outputs": [],
   "source": [
    "def get_all_token_data():\n",
    "    all_data = {}\n",
    "    for token, date in tokens.items():\n",
    "        print(f\"History data for {token} niêm yết từ {date}\")\n",
    "        data = get_historical_data(token, date)\n",
    "        all_data[token] = data\n",
    "        save_data_to_csv(data, token)\n",
    "        time.sleep(2)  # Dừng 2 giây giữa các lần gọi API để tránh bị rate limit\n",
    "    return all_data\n",
    "\n",
    "token_data = get_all_token_data()"
   ]
  },
  {
   "cell_type": "code",
   "execution_count": null,
   "metadata": {},
   "outputs": [],
   "source": [
    "def save_token_info_to_json():\n",
    "    \"\"\"\n",
    "    Lấy thông tin cho tất cả các token từ CoinMarketCap và lưu vào file JSON.\n",
    "    \"\"\"\n",
    "    token_data = []\n",
    "    for token in tokens.keys():\n",
    "        print(f\"\\n Đang lấy info {token} ... \")\n",
    "        info = get_token_info(token)\n",
    "\n",
    "        if info:\n",
    "            urls = info.get('urls', {})\n",
    "            token_details = {\n",
    "                \"Token\": token,\n",
    "                \"Description\": info.get('description', 'Không có mô tả'),\n",
    "                \"Website\": urls.get('website', ['Không có website'])[0] if urls.get('website') else 'Không có website',\n",
    "                \"Technical Doc\": urls.get('technical_doc', ['Không có tài liệu kỹ thuật'])[0] if urls.get('technical_doc') else 'Không có tài liệu kỹ thuật',\n",
    "                \"Twitter\": urls.get('twitter', ['Không có Twitter'])[0] if urls.get('twitter') else 'Không có Twitter',\n",
    "                \"Reddit\": urls.get('reddit', ['Không có Reddit'])[0] if urls.get('reddit') else 'Không có Reddit',\n",
    "                \"Logo\": info.get('logo', 'Không có logo')\n",
    "            }\n",
    "            token_data.append(token_details)\n",
    "            print(f\"{token} ... Done\")\n",
    "        else:\n",
    "            print(f\"không thể lấy info {token}.\")\n",
    "    \n",
    "    output_file = os.path.join(data_folder, \"token_info.json\")\n",
    "    try:\n",
    "        with open(output_file, \"w\", encoding=\"utf-8\") as json_file:\n",
    "            json.dump(token_data, json_file, ensure_ascii=False, indent=4)\n",
    "        print(f\"\\nSave data to '{output_file}' ... Done\")\n",
    "    except IOError as e:\n",
    "        print(f\"Lỗi khi ghi dữ liệu vào file '{output_file}': {e}\")\n",
    "\n",
    "save_token_info_to_json()"
   ]
  }
 ],
 "metadata": {
  "kernelspec": {
   "display_name": ".venv",
   "language": "python",
   "name": "python3"
  },
  "language_info": {
   "codemirror_mode": {
    "name": "ipython",
    "version": 3
   },
   "file_extension": ".py",
   "mimetype": "text/x-python",
   "name": "python",
   "nbconvert_exporter": "python",
   "pygments_lexer": "ipython3",
   "version": "3.11.9"
  }
 },
 "nbformat": 4,
 "nbformat_minor": 2
}
