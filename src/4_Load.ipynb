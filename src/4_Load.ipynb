{
 "cells": [
  {
   "cell_type": "markdown",
   "metadata": {},
   "source": [
    "# Setup"
   ]
  },
  {
   "cell_type": "code",
   "execution_count": 1,
   "metadata": {},
   "outputs": [],
   "source": [
    "import psycopg2\n",
    "import pandas as pd\n",
    "import os\n",
    "import boto3\n",
    "from botocore.exceptions import ClientError\n"
   ]
  },
  {
   "cell_type": "code",
   "execution_count": 2,
   "metadata": {},
   "outputs": [],
   "source": [
    "# Hàm tạo kết nối tới PostgreSQL\n",
    "def create_connection(db_name=\"token\"):\n",
    "    try:\n",
    "        conn = psycopg2.connect(\n",
    "            dbname=db_name,  \n",
    "            user=\"HTP\",         \n",
    "            password=\"htp1782k1\",  \n",
    "            host=\"localhost\",  \n",
    "            port=\"5432\"       \n",
    "        )\n",
    "        print(f\"Kết nối đến PostgreSQL ({db_name}) thành công!\")\n",
    "        return conn\n",
    "    except Exception as e:\n",
    "        print(f\"Không thể kết nối đến PostgreSQL: {e}\")\n",
    "        return None"
   ]
  },
  {
   "cell_type": "code",
   "execution_count": 3,
   "metadata": {},
   "outputs": [],
   "source": [
    "# Cấu hình thông tin MinIO\n",
    "minio_endpoint = 'http://localhost:9000' \n",
    "access_key = 'k8N26KNw26XudBhDIZXh'  \n",
    "secret_key = 'DxuxIyTbIcJqjCFLB8FvuITeJjqWHvUm1ElHtGy2'  \n",
    "bucket_name = 'rawdata'  \n",
    "\n",
    "# Khởi tạo client MinIO\n",
    "s3 = boto3.client('s3', endpoint_url=minio_endpoint,\n",
    "                  aws_access_key_id=access_key,\n",
    "                  aws_secret_access_key=secret_key)\n"
   ]
  },
  {
   "cell_type": "markdown",
   "metadata": {},
   "source": [
    "# Tạo database"
   ]
  },
  {
   "cell_type": "code",
   "execution_count": 4,
   "metadata": {},
   "outputs": [
    {
     "name": "stdout",
     "output_type": "stream",
     "text": [
      "Database 'token' đã tồn tại.\n"
     ]
    }
   ],
   "source": [
    "def create_database():\n",
    "    try:\n",
    "        conn = psycopg2.connect(\n",
    "            dbname=\"postgres\",  \n",
    "            user=\"HTP\",       \n",
    "            password=\"htp1782k1\",  \n",
    "            host=\"localhost\",  \n",
    "            port=\"5432\"       \n",
    "        )\n",
    "        conn.autocommit = True\n",
    "        cursor = conn.cursor()\n",
    "\n",
    "        # Kiểm tra database đã tồn tại chưa\n",
    "        cursor.execute(\"SELECT 1 FROM pg_database WHERE datname = 'token';\")\n",
    "        exists = cursor.fetchone()\n",
    "\n",
    "        if not exists:\n",
    "            cursor.execute(\"CREATE DATABASE token;\")\n",
    "            print(\"Database 'token' đã được tạo.\")\n",
    "        else:\n",
    "            print(\"Database 'token' đã tồn tại.\")\n",
    "\n",
    "        cursor.close()\n",
    "        conn.close()\n",
    "    except Exception as e:\n",
    "        print(f\"Lỗi khi tạo database: {e}\")\n",
    "\n",
    "create_database()\n"
   ]
  },
  {
   "cell_type": "markdown",
   "metadata": {},
   "source": [
    "# 2. Check"
   ]
  },
  {
   "cell_type": "code",
   "execution_count": 5,
   "metadata": {},
   "outputs": [
    {
     "name": "stdout",
     "output_type": "stream",
     "text": [
      "Kết nối đến PostgreSQL (token) thành công!\n",
      "Các bảng đã được xoá nếu chúng tồn tại.\n"
     ]
    }
   ],
   "source": [
    "def drop_tables_if_exist():\n",
    "    try:\n",
    "        conn = create_connection()\n",
    "        if conn:\n",
    "            cursor = conn.cursor()\n",
    "            cursor.execute(\"DROP TABLE IF EXISTS dim_token CASCADE;\")\n",
    "            cursor.execute(\"DROP TABLE IF EXISTS dim_token_info CASCADE;\")\n",
    "            cursor.execute(\"DROP TABLE IF EXISTS fact_token_prices CASCADE;\")\n",
    "            conn.commit()\n",
    "            print(\"Các bảng đã được xoá nếu chúng tồn tại.\")\n",
    "            cursor.close()\n",
    "            conn.close()\n",
    "        else:\n",
    "            print(\"Không thể kết nối đến database để xoá bảng.\")\n",
    "    except Exception as e:\n",
    "        print(f\"Đã xảy ra lỗi khi xoá bảng: {e}\")\n",
    "\n",
    "# Chạy hàm xoá bảng\n",
    "drop_tables_if_exist()\n"
   ]
  },
  {
   "cell_type": "markdown",
   "metadata": {},
   "source": [
    "# 3 Create table"
   ]
  },
  {
   "cell_type": "code",
   "execution_count": 6,
   "metadata": {},
   "outputs": [
    {
     "name": "stdout",
     "output_type": "stream",
     "text": [
      "Kết nối đến PostgreSQL (token) thành công!\n",
      "Database và tables đã được setup thành công!\n"
     ]
    }
   ],
   "source": [
    "def setup_database():\n",
    "    try:\n",
    "        conn = create_connection()\n",
    "        if conn:\n",
    "            cursor = conn.cursor()\n",
    "            with open(r'D:\\HTP\\Project-personal\\CoinAnalytics\\Main\\Database\\Setup_postgres.sql', 'r', encoding='utf-8') as file:\n",
    "                sql_queries = file.read()\n",
    "            cursor.execute(sql_queries)\n",
    "            conn.commit()\n",
    "            print(\"Database và tables đã được setup thành công!\")\n",
    "            cursor.close()\n",
    "            conn.close()\n",
    "        else:\n",
    "            print(\"Không thể kết nối đến database để thực hiện setup.\")\n",
    "    except Exception as e:\n",
    "        print(f\"Đã xảy ra lỗi khi setup database: {e}\")\n",
    "\n",
    "setup_database()\n"
   ]
  },
  {
   "cell_type": "markdown",
   "metadata": {},
   "source": [
    "# 4. Load postgres"
   ]
  },
  {
   "cell_type": "code",
   "execution_count": 7,
   "metadata": {},
   "outputs": [
    {
     "name": "stdout",
     "output_type": "stream",
     "text": [
      "Kết nối đến PostgreSQL (token) thành công!\n",
      "Dữ liệu đã được chèn thành công vào các bảng!\n"
     ]
    }
   ],
   "source": [
    "def insert_data_from_csv():\n",
    "    try:\n",
    "        conn = create_connection()\n",
    "        if conn:\n",
    "            cursor = conn.cursor()\n",
    "\n",
    "            # Chèn dữ liệu vào bảng dim_token\n",
    "            tokens_df = pd.read_csv(r'D:\\HTP\\Project-personal\\CoinAnalytics\\Main\\data\\warehouse\\dim_token.csv')\n",
    "            for index, row in tokens_df.iterrows():\n",
    "                cursor.execute(\"INSERT INTO dim_token (id, token_name, token) VALUES (%s, %s, %s)\", \n",
    "                               (index + 1, row['token_name'], row['token']))\n",
    "            \n",
    "            # Chèn dữ liệu vào bảng dim_token_info\n",
    "            token_info_df = pd.read_csv(r'D:\\HTP\\Project-personal\\CoinAnalytics\\Main\\data\\warehouse\\dim_token_info.csv')\n",
    "            for _, row in token_info_df.iterrows():\n",
    "                cursor.execute(\"\"\" \n",
    "                    INSERT INTO dim_token_info (token_id, description, website, technical_doc, twitter, reddit, logo) \n",
    "                    VALUES (%s, %s, %s, %s, %s, %s, %s)\n",
    "                \"\"\", (row['token_id'], row['description'], row['website'], row['technical_doc'], row['twitter'], row['reddit'], row['logo']))\n",
    "            \n",
    "            # Chèn dữ liệu vào bảng fact_token_prices\n",
    "            token_prices_df = pd.read_csv(r'D:\\HTP\\Project-personal\\CoinAnalytics\\Main\\data\\warehouse\\fact_token_prices.csv')\n",
    "            for _, row in token_prices_df.iterrows():\n",
    "                cursor.execute(\"\"\" \n",
    "                    INSERT INTO fact_token_prices (token_id, timestamp, open, high, low, close, volume, price_difference, \n",
    "                                                   price_percentage_change, mid_price, vwap) \n",
    "                    VALUES (%s, %s, %s, %s, %s, %s, %s, %s, %s, %s, %s)\n",
    "                \"\"\", (row['token_id'], row['timestamp'], row['open'], row['high'], row['low'], row['close'], row['volume'], \n",
    "                      row['price_difference'], row['price_percentage_change'], row['mid_price'], row['vwap']))\n",
    "\n",
    "            conn.commit()\n",
    "            print(\"Dữ liệu đã được chèn thành công vào các bảng!\")\n",
    "            cursor.close()\n",
    "            conn.close()\n",
    "        else:\n",
    "            print(\"Không thể kết nối đến database để chèn dữ liệu.\")\n",
    "    except Exception as e:\n",
    "        print(f\"Đã xảy ra lỗi khi chèn dữ liệu vào database: {e}\")\n",
    "\n",
    "# Chạy hàm chèn dữ liệu\n",
    "insert_data_from_csv()\n"
   ]
  },
  {
   "cell_type": "markdown",
   "metadata": {},
   "source": [
    "# Load MinIO"
   ]
  },
  {
   "cell_type": "code",
   "execution_count": 8,
   "metadata": {},
   "outputs": [
    {
     "name": "stdout",
     "output_type": "stream",
     "text": [
      "Bucket 'rawdata' đã tồn tại.\n"
     ]
    }
   ],
   "source": [
    "def check_and_create_bucket(bucket_name):\n",
    "    try:\n",
    "        # Kiểm tra nếu bucket đã tồn tại\n",
    "        s3.head_bucket(Bucket=bucket_name)\n",
    "        print(f\"Bucket '{bucket_name}' đã tồn tại.\")\n",
    "    except ClientError as e:\n",
    "        # Nếu bucket không tồn tại, tạo mới\n",
    "        if e.response['Error']['Code'] == '404':\n",
    "            print(f\"Bucket '{bucket_name}' không tồn tại. Đang tạo mới...\")\n",
    "            s3.create_bucket(Bucket=bucket_name)\n",
    "            print(f\"Bucket '{bucket_name}' đã được tạo thành công ... Done\")\n",
    "        else:\n",
    "            print(f\"Error checking bucket: {e}\")\n",
    "\n",
    "# Kiểm tra và tạo bucket MinIO\n",
    "check_and_create_bucket(bucket_name)\n"
   ]
  },
  {
   "cell_type": "code",
   "execution_count": null,
   "metadata": {},
   "outputs": [],
   "source": [
    "def upload_files_to_minio(bucket_name, folder_path):\n",
    "    try:\n",
    "        # Lấy danh sách tất cả các file trong thư mục\n",
    "        files = os.listdir(folder_path)\n",
    "        \n",
    "        for file in files:\n",
    "            file_path = os.path.join(folder_path, file)\n",
    "            if os.path.isfile(file_path):\n",
    "                print(f\"Đang tải lên file {file}...\")\n",
    "                s3.upload_file(file_path, bucket_name, file)\n",
    "                print(f\"File {file} đã được tải lên ... Done\")\n",
    "            else:\n",
    "                print(f\"{file} không phải là file hợp lệ.\")\n",
    "    except Exception as e:\n",
    "        print(f\"Error uploading files: {e}\")\n",
    "\n",
    "# Chạy hàm tải file lên MinIO\n",
    "upload_files_to_minio(bucket_name, r'D:\\HTP\\Project-personal\\CoinAnalytics\\Main\\data\\raw')\n"
   ]
  }
 ],
 "metadata": {
  "kernelspec": {
   "display_name": ".venv",
   "language": "python",
   "name": "python3"
  },
  "language_info": {
   "codemirror_mode": {
    "name": "ipython",
    "version": 3
   },
   "file_extension": ".py",
   "mimetype": "text/x-python",
   "name": "python",
   "nbconvert_exporter": "python",
   "pygments_lexer": "ipython3",
   "version": "3.11.9"
  }
 },
 "nbformat": 4,
 "nbformat_minor": 2
}
