{
 "cells": [
  {
   "cell_type": "markdown",
   "metadata": {},
   "source": [
    "# Set Up"
   ]
  },
  {
   "cell_type": "code",
   "execution_count": 1,
   "metadata": {},
   "outputs": [],
   "source": [
    "import os\n",
    "import pandas as pd\n",
    "from datetime import datetime\n",
    "import json"
   ]
  },
  {
   "cell_type": "markdown",
   "metadata": {},
   "source": [
    "# Transform data"
   ]
  },
  {
   "cell_type": "code",
   "execution_count": 2,
   "metadata": {},
   "outputs": [],
   "source": [
    "# Setup Directories\n",
    "RAW_DATA_DIR = r\"D:\\HTP\\Project-personal\\CoinAnalytics\\Main\\data\\raw\"\n",
    "PROCESSED_DATA_DIR = r\"D:\\HTP\\Project-personal\\CoinAnalytics\\Main\\data\\processed\"\n",
    "\n",
    "# Tạo thư mục processed nếu chưa tồn tại\n",
    "os.makedirs(PROCESSED_DATA_DIR, exist_ok=True)"
   ]
  },
  {
   "cell_type": "code",
   "execution_count": null,
   "metadata": {},
   "outputs": [],
   "source": [
    "# Lấy danh sách các file .csv trong thư mục raw\n",
    "csv_files = [f for f in os.listdir(RAW_DATA_DIR) if f.endswith('.csv')]\n",
    "print(\"CSV Files:\", csv_files)"
   ]
  },
  {
   "cell_type": "code",
   "execution_count": null,
   "metadata": {},
   "outputs": [],
   "source": [
    "# Load Data from Raw Data Directory\n",
    "all_dataframes = []\n",
    "for file_name in csv_files:\n",
    "    file_path = os.path.join(RAW_DATA_DIR, file_name)\n",
    "    df = pd.read_csv(file_path)\n",
    "    all_dataframes.append((file_name, df))\n",
    "    print(f\"Loaded {file_name}:\")\n",
    "    print(df.head(1))"
   ]
  },
  {
   "cell_type": "markdown",
   "metadata": {},
   "source": [
    "# remove unnecessary columns"
   ]
  },
  {
   "cell_type": "code",
   "execution_count": 5,
   "metadata": {},
   "outputs": [],
   "source": [
    "# Filter Columns\n",
    "KEEP_COLS = ['timestamp', 'open', 'high', 'low', 'close', 'volume']\n",
    "filtered_dataframes = []\n",
    "\n",
    "for file_name, df in all_dataframes:\n",
    "    filtered_df = df[KEEP_COLS]\n",
    "    filtered_dataframes.append((file_name, filtered_df))"
   ]
  },
  {
   "cell_type": "markdown",
   "metadata": {},
   "source": [
    "# Handle Missing Values"
   ]
  },
  {
   "cell_type": "code",
   "execution_count": 6,
   "metadata": {},
   "outputs": [],
   "source": [
    "def handle_missing(df):\n",
    "    for col in df.select_dtypes(include=['float64', 'int64']):\n",
    "        if df[col].isnull().any():\n",
    "            df[col].fillna(df[col].median(), inplace=True)\n",
    "    return df\n",
    "\n",
    "cleaned_dataframes = [(file_name, handle_missing(df)) for file_name, df in filtered_dataframes]\n"
   ]
  },
  {
   "cell_type": "code",
   "execution_count": 7,
   "metadata": {},
   "outputs": [],
   "source": [
    "# Data Preprocessing\n",
    "def preprocess_data(df):\n",
    "    # Sử dụng .loc để thay đổi giá trị của cột 'timestamp'\n",
    "    df.loc[:, 'timestamp'] = pd.to_datetime(df['timestamp'], errors='coerce')\n",
    "    \n",
    "    numeric_cols = ['open', 'high', 'low', 'close', 'volume']\n",
    "    \n",
    "    for col in numeric_cols:\n",
    "        # Sử dụng .loc để thay đổi giá trị của các cột numeric\n",
    "        df.loc[:, col] = pd.to_numeric(df[col], errors='coerce')\n",
    "    \n",
    "    return df\n",
    "\n",
    "# Áp dụng preprocess cho tất cả các dataframe\n",
    "processed_dataframes = [(file_name, preprocess_data(df)) for file_name, df in cleaned_dataframes]\n"
   ]
  },
  {
   "cell_type": "markdown",
   "metadata": {},
   "source": [
    "# add indicators"
   ]
  },
  {
   "cell_type": "code",
   "execution_count": null,
   "metadata": {},
   "outputs": [],
   "source": [
    "def add_indicators(df):\n",
    "    df.loc[:, 'price_difference'] = df['close'] - df['open']\n",
    "    df.loc[:, 'price_percentage_change'] = ((df['close'] - df['open']) / df['open']) * 100\n",
    "    df.loc[:, 'mid_price'] = (df['high'] + df['low']) / 2\n",
    "    df.loc[:, 'vwap'] = (df['close'] * df['volume']).cumsum() / df['volume'].cumsum()\n",
    "    return df\n",
    "\n",
    "final_dataframes = [(file_name, add_indicators(df)) for file_name, df in processed_dataframes]\n"
   ]
  },
  {
   "cell_type": "markdown",
   "metadata": {},
   "source": [
    "# Save"
   ]
  },
  {
   "cell_type": "code",
   "execution_count": 9,
   "metadata": {},
   "outputs": [
    {
     "name": "stdout",
     "output_type": "stream",
     "text": [
      "Saved ALICEUSDT data to D:\\HTP\\Project-personal\\CoinAnalytics\\Main\\data\\processed\\ALICEUSDT_processed.csv\n",
      "Saved AXSUSDT data to D:\\HTP\\Project-personal\\CoinAnalytics\\Main\\data\\processed\\AXSUSDT_processed.csv\n",
      "Saved ENJUSDT data to D:\\HTP\\Project-personal\\CoinAnalytics\\Main\\data\\processed\\ENJUSDT_processed.csv\n",
      "Saved GALAUSDT data to D:\\HTP\\Project-personal\\CoinAnalytics\\Main\\data\\processed\\GALAUSDT_processed.csv\n",
      "Saved MANAUSDT data to D:\\HTP\\Project-personal\\CoinAnalytics\\Main\\data\\processed\\MANAUSDT_processed.csv\n",
      "Saved SANDUSDT data to D:\\HTP\\Project-personal\\CoinAnalytics\\Main\\data\\processed\\SANDUSDT_processed.csv\n",
      "Saved SUSHIUSDT data to D:\\HTP\\Project-personal\\CoinAnalytics\\Main\\data\\processed\\SUSHIUSDT_processed.csv\n",
      "Saved YGGUSDT data to D:\\HTP\\Project-personal\\CoinAnalytics\\Main\\data\\processed\\YGGUSDT_processed.csv\n"
     ]
    }
   ],
   "source": [
    "# Save Processed Data\n",
    "def save_to_csv(dataframes, output_dir):\n",
    "    for file_name, df in dataframes:\n",
    "        token_name = file_name.split('_')[0]\n",
    "        output_path = os.path.join(output_dir, f\"{token_name}_processed.csv\")\n",
    "        df.to_csv(output_path, index=False)\n",
    "        print(f\"Saved {token_name} data to {output_path}\")\n",
    "\n",
    "save_to_csv(final_dataframes, PROCESSED_DATA_DIR)\n"
   ]
  },
  {
   "cell_type": "markdown",
   "metadata": {},
   "source": [
    "# Transform JSON Data"
   ]
  },
  {
   "cell_type": "code",
   "execution_count": 10,
   "metadata": {},
   "outputs": [
    {
     "name": "stdout",
     "output_type": "stream",
     "text": [
      "Transformed JSON data saved.\n"
     ]
    }
   ],
   "source": [
    "# Định nghĩa đường dẫn\n",
    "SOURCE_JSON = r\"D:\\HTP\\Project-personal\\CoinAnalytics\\Main\\data\\raw\\token_info.json\"\n",
    "PROCESSED_DATA_DIR = r\"D:\\HTP\\Project-personal\\CoinAnalytics\\Main\\data\\processed\"\n",
    "OUTPUT_JSON = os.path.join(PROCESSED_DATA_DIR, \"token_info.json\")\n",
    "\n",
    "# Load JSON data\n",
    "with open(SOURCE_JSON, \"r\", encoding=\"utf-8\") as file:\n",
    "    json_data = json.load(file)\n",
    "\n",
    "# Transform JSON data\n",
    "for token in json_data:\n",
    "    # Xử lý các trường trống\n",
    "    for field in [\"Website\", \"Technical Doc\", \"Twitter\", \"Reddit\", \"Logo\"]:\n",
    "        if token.get(field) and token[field].startswith(\"Không có\"):\n",
    "            token[field] = \"blank\"\n",
    "\n",
    "    # Xóa URL cuối trong Description\n",
    "    if \"Description\" in token and \"More information can be found at\" in token[\"Description\"]:\n",
    "        token[\"Description\"] = token[\"Description\"].split(\"More information can be found at\")[0].strip()\n",
    "\n",
    "# Sắp xếp danh sách theo thứ tự bảng chữ cái của \"Token\"\n",
    "json_data = sorted(json_data, key=lambda x: x[\"Token\"])\n",
    "\n",
    "# Save transformed JSON data\n",
    "with open(OUTPUT_JSON, \"w\", encoding=\"utf-8\") as file:\n",
    "    json.dump(json_data, file, ensure_ascii=False, indent=4)\n",
    "\n",
    "print(\"Transformed JSON data saved.\")\n"
   ]
  }
 ],
 "metadata": {
  "kernelspec": {
   "display_name": ".venv",
   "language": "python",
   "name": "python3"
  },
  "language_info": {
   "codemirror_mode": {
    "name": "ipython",
    "version": 3
   },
   "file_extension": ".py",
   "mimetype": "text/x-python",
   "name": "python",
   "nbconvert_exporter": "python",
   "pygments_lexer": "ipython3",
   "version": "3.11.9"
  }
 },
 "nbformat": 4,
 "nbformat_minor": 2
}
