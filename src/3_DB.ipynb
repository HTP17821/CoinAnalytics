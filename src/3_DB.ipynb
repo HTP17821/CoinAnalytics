{
 "cells": [
  {
   "cell_type": "markdown",
   "metadata": {},
   "source": [
    "# Setup"
   ]
  },
  {
   "cell_type": "code",
   "execution_count": 1,
   "metadata": {},
   "outputs": [],
   "source": [
    "import os\n",
    "import pandas as pd\n",
    "import json"
   ]
  },
  {
   "cell_type": "markdown",
   "metadata": {},
   "source": []
  },
  {
   "cell_type": "code",
   "execution_count": 2,
   "metadata": {},
   "outputs": [],
   "source": [
    "# Định nghĩa các đường dẫn cần thiết\n",
    "input_folder = r'D:\\HTP\\Project-personal\\CoinAnalytics\\Main\\data\\processed'\n",
    "output_folder = r'D:\\HTP\\Project-personal\\CoinAnalytics\\Main\\data\\warehouse'\n",
    "\n",
    "# Danh sách các file CSV và tên các token\n",
    "csv_files = [\n",
    "    \"ALICEUSDT_processed.csv\", \"AXSUSDT_processed.csv\", \"ENJUSDT_processed.csv\", \n",
    "    \"GALAUSDT_processed.csv\", \"MANAUSDT_processed.csv\", \"SANDUSDT_processed.csv\", \n",
    "    \"SUSHIUSDT_processed.csv\", \"YGGUSDT_processed.csv\"\n",
    "]\n",
    "token_names = ['ALICE', 'AXS', 'ENJ', 'GALA', 'MANA', 'SAND', 'SUSHI', 'YGG']\n",
    "\n",
    "# Kiểm tra và tạo thư mục lưu kết quả nếu chưa tồn tại\n",
    "os.makedirs(output_folder, exist_ok=True)"
   ]
  },
  {
   "cell_type": "markdown",
   "metadata": {},
   "source": []
  },
  {
   "cell_type": "code",
   "execution_count": 3,
   "metadata": {},
   "outputs": [],
   "source": [
    "# Đọc các file CSV và lưu vào dictionary\n",
    "token_prices_dfs = {}\n",
    "for file in csv_files:\n",
    "    token_name = file.split('USDT')[0]  # Lấy tên token từ tên file\n",
    "    file_path = os.path.join(input_folder, file)\n",
    "    if os.path.exists(file_path):\n",
    "        df = pd.read_csv(file_path)\n",
    "        token_prices_dfs[token_name] = df\n",
    "    else:\n",
    "        print(f\"File {file} không tồn tại tại {file_path}\")\n",
    "\n",
    "# Đọc file JSON chứa thông tin token\n",
    "token_info_file = os.path.join(input_folder, \"token_info.json\")\n",
    "if os.path.exists(token_info_file):\n",
    "    with open(token_info_file, \"r\") as f:\n",
    "        token_info_data = json.load(f)\n",
    "else:\n",
    "    raise FileNotFoundError(f\"File {token_info_file} không tồn tại.\")"
   ]
  },
  {
   "cell_type": "markdown",
   "metadata": {},
   "source": [
    "# dim_token.csv"
   ]
  },
  {
   "cell_type": "code",
   "execution_count": 4,
   "metadata": {},
   "outputs": [],
   "source": [
    "tokens_df = pd.DataFrame({\n",
    "    \"token_id\": range(1, len(token_names) + 1),\n",
    "    \"token_name\": [desc.get(\"Description\", \"\").split(\" (\")[0] for desc in token_info_data],\n",
    "    \"token\": token_names\n",
    "})"
   ]
  },
  {
   "cell_type": "markdown",
   "metadata": {},
   "source": [
    "# dim_token_info.csv"
   ]
  },
  {
   "cell_type": "code",
   "execution_count": 5,
   "metadata": {},
   "outputs": [],
   "source": [
    "token_info_df = pd.DataFrame({\n",
    "    \"token_id\": range(1, len(token_info_data) + 1),\n",
    "    \"description\": [token.get(\"Description\", \"\") for token in token_info_data],\n",
    "    \"website\": [token.get(\"Website\", \"\") for token in token_info_data],\n",
    "    \"technical_doc\": [token.get(\"Technical Doc\", \"\") for token in token_info_data],\n",
    "    \"twitter\": [token.get(\"Twitter\", \"\") for token in token_info_data],\n",
    "    \"reddit\": [token.get(\"Reddit\", \"\") for token in token_info_data],\n",
    "    \"logo\": [token.get(\"Logo\", \"\") for token in token_info_data]\n",
    "})"
   ]
  },
  {
   "cell_type": "markdown",
   "metadata": {},
   "source": [
    "# fact_token_prices.csv"
   ]
  },
  {
   "cell_type": "code",
   "execution_count": 6,
   "metadata": {},
   "outputs": [],
   "source": [
    "# Gộp dữ liệu giá token và thêm cột token_id\n",
    "token_prices_df = pd.DataFrame()\n",
    "for token_name, df in token_prices_dfs.items():\n",
    "    token_id = token_names.index(token_name) + 1\n",
    "    df['token_id'] = token_id  # Thêm token_id vào DataFrame\n",
    "    token_prices_df = pd.concat([token_prices_df, df], ignore_index=True)\n",
    "\n",
    "# Đưa token_id lên đầu trong bảng token_prices_df\n",
    "columns_order = ['token_id'] + [col for col in token_prices_df.columns if col != 'token_id']\n",
    "token_prices_df = token_prices_df[columns_order]"
   ]
  },
  {
   "cell_type": "markdown",
   "metadata": {},
   "source": [
    "# Save"
   ]
  },
  {
   "cell_type": "code",
   "execution_count": 7,
   "metadata": {},
   "outputs": [
    {
     "name": "stdout",
     "output_type": "stream",
     "text": [
      "Dữ liệu đã được chia và lưu vào thư mục warehouse.\n"
     ]
    }
   ],
   "source": [
    "# Lưu các bảng dưới dạng CSV\n",
    "tokens_df.to_csv(os.path.join(output_folder, 'dim_token.csv'), index=False, encoding='utf-8-sig')\n",
    "token_info_df.to_csv(os.path.join(output_folder, 'dim_token_info.csv'), index=False, encoding='utf-8-sig')\n",
    "token_prices_df.to_csv(os.path.join(output_folder, 'fact_token_prices.csv'), index=False, encoding='utf-8-sig')\n",
    "\n",
    "print(\"Dữ liệu đã được chia và lưu vào thư mục warehouse.\")"
   ]
  }
 ],
 "metadata": {
  "kernelspec": {
   "display_name": ".venv",
   "language": "python",
   "name": "python3"
  },
  "language_info": {
   "codemirror_mode": {
    "name": "ipython",
    "version": 3
   },
   "file_extension": ".py",
   "mimetype": "text/x-python",
   "name": "python",
   "nbconvert_exporter": "python",
   "pygments_lexer": "ipython3",
   "version": "3.11.9"
  }
 },
 "nbformat": 4,
 "nbformat_minor": 2
}
